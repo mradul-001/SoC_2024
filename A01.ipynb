{
  "cells": [
    {
      "cell_type": "code",
      "execution_count": 67,
      "metadata": {
        "id": "lQMxDOwilsJl"
      },
      "outputs": [],
      "source": [
        "import numpy as np\n",
        "import pandas as pd"
      ]
    },
    {
      "cell_type": "markdown",
      "metadata": {
        "id": "z08ebUtehVik"
      },
      "source": [
        "# Downloading the dataset from kaggle\n",
        "I have used google colab for this assignment. I found this to be the fastest way to download the dataset. While checking of the code, if you already have the \"IMDB Dataset.csv\" file in the same folder as this script is in, you can skip the run of the three code cells following. Sorry for not using **tf.keras.datasets.imdb** to load the IMDB dataset"
      ]
    },
    {
      "cell_type": "code",
      "execution_count": 68,
      "metadata": {
        "colab": {
          "base_uri": "https://localhost:8080/"
        },
        "id": "ecijyAfJQ2gp",
        "outputId": "3f1a73d7-6339-413e-e4e3-7a046c496cd6"
      },
      "outputs": [
        {
          "name": "stdout",
          "output_type": "stream",
          "text": [
            "cp: cannot stat 'kaggle.json': No such file or directory\n"
          ]
        }
      ],
      "source": [
        "!mkdir -p ~/.kaggle\n",
        "!cp kaggle.json ~/.kaggle/"
      ]
    },
    {
      "cell_type": "code",
      "execution_count": 69,
      "metadata": {
        "colab": {
          "base_uri": "https://localhost:8080/"
        },
        "id": "VFbY2j4XRY_i",
        "outputId": "941fba09-d45c-4b65-e999-0bf29100c0d7"
      },
      "outputs": [
        {
          "name": "stdout",
          "output_type": "stream",
          "text": [
            "Dataset URL: https://www.kaggle.com/datasets/lakshmi25npathi/imdb-dataset-of-50k-movie-reviews\n",
            "License(s): other\n",
            "imdb-dataset-of-50k-movie-reviews.zip: Skipping, found more recently modified local copy (use --force to force download)\n"
          ]
        }
      ],
      "source": [
        "!kaggle datasets download -d lakshmi25npathi/imdb-dataset-of-50k-movie-reviews"
      ]
    },
    {
      "cell_type": "code",
      "execution_count": 70,
      "metadata": {
        "id": "lN2WzoH5Rqv1"
      },
      "outputs": [],
      "source": [
        "import zipfile\n",
        "zip_ref = zipfile.ZipFile('/content/imdb-dataset-of-50k-movie-reviews.zip', 'r')\n",
        "zip_ref.extractall('/content')\n",
        "zip_ref.close()"
      ]
    },
    {
      "cell_type": "markdown",
      "metadata": {
        "id": "8qZCrUR1hvse"
      },
      "source": [
        "# Data Preprocessing"
      ]
    },
    {
      "cell_type": "code",
      "execution_count": 71,
      "metadata": {
        "id": "0PIplr8xl9sH"
      },
      "outputs": [],
      "source": [
        "df = pd.read_csv('IMDB Dataset.csv')\n",
        "df = df.to_numpy()"
      ]
    },
    {
      "cell_type": "code",
      "execution_count": 72,
      "metadata": {
        "id": "6ts2YzihytP-"
      },
      "outputs": [],
      "source": [
        "X = df[:, 0]\n",
        "Y = df[:, 1]"
      ]
    },
    {
      "cell_type": "code",
      "execution_count": 73,
      "metadata": {
        "id": "GYX48XnkiFW2"
      },
      "outputs": [],
      "source": [
        "Y = np.array([{'positive': 1, 'negative': 0}[value] for value in Y]).reshape(-1, 1)"
      ]
    },
    {
      "cell_type": "code",
      "execution_count": 74,
      "metadata": {
        "id": "eoj17LfjWT1F"
      },
      "outputs": [],
      "source": [
        "import string\n",
        "for i in range(len(X)):\n",
        "    X[i] = X[i].lower().replace(\"<br />\", \"\").translate(str.maketrans('', '', string.punctuation))"
      ]
    },
    {
      "cell_type": "code",
      "execution_count": 75,
      "metadata": {
        "id": "uxHa-gsAcpxS"
      },
      "outputs": [],
      "source": [
        "from tensorflow.keras.preprocessing.text import Tokenizer #type:ignore\n",
        "\n",
        "tokenizer = Tokenizer(oov_token = 'OOV', num_words = 100000)\n",
        "tokenizer.fit_on_texts(X)\n",
        "tokenized_reviews = tokenizer.texts_to_sequences(X)"
      ]
    },
    {
      "cell_type": "code",
      "execution_count": 76,
      "metadata": {
        "id": "raX-zOC6ftbu"
      },
      "outputs": [],
      "source": [
        "from tensorflow.keras.preprocessing.sequence import pad_sequences #type:ignore\n",
        "padded_reviews = pad_sequences(tokenized_reviews, maxlen = 100, padding = 'post')\n",
        "X = padded_reviews"
      ]
    },
    {
      "cell_type": "code",
      "execution_count": 77,
      "metadata": {
        "id": "azMUXi0Qz31i"
      },
      "outputs": [],
      "source": [
        "x_train, y_train = X[:40000], Y[:40000]\n",
        "x_val, y_val = X[40000:45000], Y[40000:45000]\n",
        "x_test, y_test = X[45000:], Y[45000:]"
      ]
    },
    {
      "cell_type": "markdown",
      "metadata": {
        "id": "exKnCsnbh7_B"
      },
      "source": [
        "# Building the model"
      ]
    },
    {
      "cell_type": "code",
      "execution_count": 78,
      "metadata": {
        "id": "kSwV8ogWhfVT"
      },
      "outputs": [],
      "source": [
        "from tensorflow.keras.models import Sequential #type:ignore\n",
        "from tensorflow.keras.layers import Dense, LSTM, Embedding, Dropout #type:ignore\n",
        "from tensorflow.keras.regularizers import l2 #type:ignore\n",
        "\n",
        "\n",
        "model = Sequential([\n",
        "    Embedding(100000, 50, input_length=100),\n",
        "\n",
        "    LSTM(64),\n",
        "\n",
        "    Dense(1, activation='sigmoid')\n",
        "])\n",
        "\n",
        "\n",
        "model.compile(\n",
        "    loss =  'binary_crossentropy',\n",
        "    optimizer = 'adam',\n",
        "    metrics = ['accuracy']\n",
        ")"
      ]
    },
    {
      "cell_type": "code",
      "execution_count": 79,
      "metadata": {
        "colab": {
          "base_uri": "https://localhost:8080/"
        },
        "id": "1ZRGL-rBvwx0",
        "outputId": "e21bd0fd-b1cf-4ce8-ab15-4831767b2721"
      },
      "outputs": [
        {
          "name": "stdout",
          "output_type": "stream",
          "text": [
            "Model: \"sequential_4\"\n",
            "_________________________________________________________________\n",
            " Layer (type)                Output Shape              Param #   \n",
            "=================================================================\n",
            " embedding_4 (Embedding)     (None, 100, 50)           5000000   \n",
            "                                                                 \n",
            " lstm_4 (LSTM)               (None, 64)                29440     \n",
            "                                                                 \n",
            " dense_4 (Dense)             (None, 1)                 65        \n",
            "                                                                 \n",
            "=================================================================\n",
            "Total params: 5029505 (19.19 MB)\n",
            "Trainable params: 5029505 (19.19 MB)\n",
            "Non-trainable params: 0 (0.00 Byte)\n",
            "_________________________________________________________________\n"
          ]
        }
      ],
      "source": [
        "model.summary()"
      ]
    },
    {
      "cell_type": "code",
      "execution_count": 80,
      "metadata": {
        "colab": {
          "base_uri": "https://localhost:8080/"
        },
        "id": "PD-ebavxwKfh",
        "outputId": "8aecabc3-87da-4fc6-a5d5-42f1182c59f9"
      },
      "outputs": [
        {
          "name": "stdout",
          "output_type": "stream",
          "text": [
            "Epoch 1/3\n",
            "1250/1250 [==============================] - 152s 119ms/step - loss: 0.3991 - accuracy: 0.8199 - val_loss: 0.3401 - val_accuracy: 0.8560\n",
            "Epoch 2/3\n",
            "1250/1250 [==============================] - 146s 117ms/step - loss: 0.2075 - accuracy: 0.9225 - val_loss: 0.3682 - val_accuracy: 0.8518\n",
            "Epoch 3/3\n",
            "1250/1250 [==============================] - 143s 114ms/step - loss: 0.1189 - accuracy: 0.9594 - val_loss: 0.4216 - val_accuracy: 0.8554\n"
          ]
        }
      ],
      "source": [
        "history = model.fit(x_train, y_train, epochs = 3, validation_data=(x_val, y_val))"
      ]
    },
    {
      "cell_type": "code",
      "execution_count": 81,
      "metadata": {
        "colab": {
          "base_uri": "https://localhost:8080/",
          "height": 430
        },
        "id": "u2eToodBgdxN",
        "outputId": "32c4520b-649b-4352-94ea-a0d798a1e59e"
      },
      "outputs": [
        {
          "data": {
            "image/png": "[encoded data removed]",
            "text/plain": [
              "<Figure size 640x480 with 1 Axes>"
            ]
          },
          "metadata": {},
          "output_type": "display_data"
        }
      ],
      "source": [
        "import matplotlib.pyplot as plt\n",
        "plt.plot(history.history['accuracy'], label = 'Training Accuracy')\n",
        "plt.plot(history.history['val_accuracy'], label = 'Validation Accuracy')\n",
        "plt.legend()\n",
        "plt.show()"
      ]
    },
    {
      "cell_type": "markdown",
      "metadata": {
        "id": "9mCYAwBIYu20"
      },
      "source": [
        "# Preparing custom tests"
      ]
    },
    {
      "cell_type": "code",
      "execution_count": 82,
      "metadata": {
        "collapsed": true,
        "id": "kep1NJh8YtNe"
      },
      "outputs": [],
      "source": [
        "custom_test = np.array([\n",
        "    \"What a wonderful experience. The visuals were stunning.\",\n",
        "    \"Not my cup of tea. The movie was too slow and uninteresting.\",\n",
        "    \"Loved every minute of it. A masterpiece!\",\n",
        "    \"Awful movie. Worst I have seen in years.\",\n",
        "    \"It was okay, not great but not terrible either.\",\n",
        "    \"I would not recommend anyone this movie. It's just a waste of time.\",\n",
        "    \"This is a fantastic movie with great acting and a compelling story.\",\n",
        "    \"I did not enjoy the film. The plot was boring and predictable.\",\n",
        "    \"An excellent movie. Highly recommended!\",\n",
        "    \"Terrible movie. I walked out halfway through.\",\n",
        "    \"A decent film with some good moments but overall forgettable.\"\n",
        "])\n",
        "\n",
        "new = np.arange(0, len(custom_test))\n",
        "\n",
        "for i in range(len(custom_test)):\n",
        "    custom_test[i] = custom_test[i].lower().replace(\"<br />\", \"\").translate(str.maketrans('', '', string.punctuation))\n",
        "\n",
        "custom_test = tokenizer.texts_to_sequences(custom_test)\n",
        "custom_test = pad_sequences(custom_test, maxlen = 100, padding = 'post')"
      ]
    },
    {
      "cell_type": "code",
      "execution_count": 83,
      "metadata": {
        "colab": {
          "base_uri": "https://localhost:8080/"
        },
        "id": "rmJjSxttVTQX",
        "outputId": "edffe3c8-8a2c-4e5b-de17-04d39e170a42"
      },
      "outputs": [
        {
          "name": "stdout",
          "output_type": "stream",
          "text": [
            "1/1 [==============================] - 0s 413ms/step\n"
          ]
        }
      ],
      "source": [
        "prediction = np.round(model.predict(custom_test))\n",
        "_prediction_ = ['positive' if value == 1 else 'negative' for value in prediction]"
      ]
    },
    {
      "cell_type": "code",
      "execution_count": 84,
      "metadata": {
        "colab": {
          "base_uri": "https://localhost:8080/"
        },
        "id": "m7D0-8xyaS_l",
        "outputId": "4d9de9c6-bf31-48ac-b399-857a3315f8e1"
      },
      "outputs": [
        {
          "data": {
            "text/plain": [
              "['positive',\n",
              " 'negative',\n",
              " 'positive',\n",
              " 'negative',\n",
              " 'negative',\n",
              " 'negative',\n",
              " 'positive',\n",
              " 'negative',\n",
              " 'positive',\n",
              " 'negative',\n",
              " 'negative']"
            ]
          },
          "execution_count": 84,
          "metadata": {},
          "output_type": "execute_result"
        }
      ],
      "source": [
        "_prediction_"
      ]
    }
  ],
  "metadata": {
    "accelerator": "TPU",
    "colab": {
      "gpuType": "V28",
      "provenance": []
    },
    "kernelspec": {
      "display_name": "Python 3",
      "name": "python3"
    },
    "language_info": {
      "name": "python"
    }
  },
  "nbformat": 4,
  "nbformat_minor": 0
}
